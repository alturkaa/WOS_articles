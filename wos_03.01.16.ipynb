{
 "cells": [
  {
   "cell_type": "code",
   "execution_count": 27,
   "metadata": {
    "collapsed": true
   },
   "outputs": [],
   "source": [
    "import numpy as np\n",
    "import pandas as pd\n",
    "import glob\n",
    "import os\n",
    "\n",
    "pd.set_option('display.width', 500) \n",
    "pd.set_option('display.max_columns', 100)\n",
    "\n",
    "%matplotlib inline"
   ]
  },
  {
   "cell_type": "code",
   "execution_count": 16,
   "metadata": {
    "collapsed": false
   },
   "outputs": [],
   "source": [
    "#cd"
   ]
  },
  {
   "cell_type": "code",
   "execution_count": 11,
   "metadata": {
    "collapsed": true
   },
   "outputs": [],
   "source": [
    "os.chdir('Box Sync\\Research\\Topic Modeling\\WOS')"
   ]
  },
  {
   "cell_type": "code",
   "execution_count": 12,
   "metadata": {
    "collapsed": false
   },
   "outputs": [],
   "source": [
    "file_names = glob.glob(\"*.txt\")"
   ]
  },
  {
   "cell_type": "code",
   "execution_count": 14,
   "metadata": {
    "collapsed": false
   },
   "outputs": [],
   "source": [
    "#file_names"
   ]
  },
  {
   "cell_type": "code",
   "execution_count": 79,
   "metadata": {
    "collapsed": true
   },
   "outputs": [],
   "source": [
    "pieces = []\n",
    "\n",
    "for path in file_names:\n",
    "    eo = pd.read_csv(path, sep='\\t')\n",
    "    pieces.append(eo)\n",
    "\n",
    "articles = pd.concat(pieces, ignore_index=True)"
   ]
  },
  {
   "cell_type": "code",
   "execution_count": 80,
   "metadata": {
    "collapsed": false
   },
   "outputs": [
    {
     "name": "stdout",
     "output_type": "stream",
     "text": [
      "(32560, 56)\n",
      "30\n"
     ]
    }
   ],
   "source": [
    "print articles.shape\n",
    "print articles['SO'].nunique()"
   ]
  },
  {
   "cell_type": "code",
   "execution_count": 81,
   "metadata": {
    "collapsed": false
   },
   "outputs": [
    {
     "name": "stdout",
     "output_type": "stream",
     "text": [
      "32560\n",
      "32560\n"
     ]
    }
   ],
   "source": [
    "print len(articles)\n",
    "articles = articles.drop_duplicates()\n",
    "print len(articles)"
   ]
  },
  {
   "cell_type": "code",
   "execution_count": 82,
   "metadata": {
    "collapsed": true
   },
   "outputs": [],
   "source": [
    "#index using unique WOS id\n",
    "articles = articles.set_index('UT')"
   ]
  },
  {
   "cell_type": "code",
   "execution_count": 83,
   "metadata": {
    "collapsed": true
   },
   "outputs": [],
   "source": [
    "#keep author, title, journal name, publication date, year published, abstract, and times cited\n",
    "columns_to_keep = ['AU', 'TI', 'SO', 'PD', 'PY', 'AB', 'TC']"
   ]
  },
  {
   "cell_type": "code",
   "execution_count": 84,
   "metadata": {
    "collapsed": true
   },
   "outputs": [],
   "source": [
    "articles = articles[columns_to_keep]"
   ]
  },
  {
   "cell_type": "code",
   "execution_count": 85,
   "metadata": {
    "collapsed": true
   },
   "outputs": [],
   "source": [
    "#drop observations with missing data (i.e., missing abstracts)\n",
    "articles = articles.dropna()"
   ]
  },
  {
   "cell_type": "code",
   "execution_count": 86,
   "metadata": {
    "collapsed": false
   },
   "outputs": [
    {
     "name": "stdout",
     "output_type": "stream",
     "text": [
      "count                                                 12882\n",
      "unique                                                12873\n",
      "top       This feature contains short articles on topics...\n",
      "freq                                                      3\n",
      "Name: AB, dtype: object\n"
     ]
    }
   ],
   "source": [
    "print articles['AB'].describe()"
   ]
  },
  {
   "cell_type": "code",
   "execution_count": 87,
   "metadata": {
    "collapsed": false
   },
   "outputs": [
    {
     "data": {
      "text/plain": [
       "26"
      ]
     },
     "execution_count": 87,
     "metadata": {},
     "output_type": "execute_result"
    }
   ],
   "source": [
    "len('ANNUAL REVIEW OF SOCIOLOGY')"
   ]
  },
  {
   "cell_type": "code",
   "execution_count": 88,
   "metadata": {
    "collapsed": false
   },
   "outputs": [],
   "source": [
    "def updated_journal_name(text):\n",
    "    text = text.upper()\n",
    "    if text[:26] == 'ANNUAL REVIEW OF SOCIOLOGY' or text[:20] == 'SCOTT, W. R. (ED.). ':\n",
    "        return 'ANNUAL REVIEW OF SOCIOLOGY'\n",
    "    if text[:34] == 'ANNUAL REVIEW OF POLITICAL SCIENCE':\n",
    "        return 'ANNUAL REVIEW OF POLITICAL SCIENCE'\n",
    "    if text[:12] == 'ECONOMETRICA':\n",
    "        return 'ECONOMETRICA'\n",
    "    else:\n",
    "        return text\n",
    "\n",
    "articles['SO'] = articles['SO'].apply(updated_journal_name)"
   ]
  },
  {
   "cell_type": "code",
   "execution_count": 89,
   "metadata": {
    "collapsed": false
   },
   "outputs": [
    {
     "data": {
      "text/plain": [
       "array(['REVIEW OF ECONOMIC STUDIES', 'AMERICAN JOURNAL OF SOCIOLOGY',\n",
       "       'ECONOMETRICA', 'AMERICAN JOURNAL OF POLITICAL SCIENCE',\n",
       "       'JOURNAL OF POLITICS', 'POLITICAL ANALYSIS',\n",
       "       'JOURNAL OF ECONOMIC LITERATURE', 'AMERICAN SOCIOLOGICAL REVIEW',\n",
       "       'SOCIAL FORCES', 'QUARTERLY JOURNAL OF ECONOMICS',\n",
       "       'SOCIAL PROBLEMS', 'AMERICAN POLITICAL SCIENCE REVIEW',\n",
       "       'ANNUAL REVIEW OF SOCIOLOGY', 'ANNUAL REVIEW OF POLITICAL SCIENCE',\n",
       "       'JOURNAL OF ECONOMIC PERSPECTIVES'], dtype=object)"
      ]
     },
     "execution_count": 89,
     "metadata": {},
     "output_type": "execute_result"
    }
   ],
   "source": [
    "articles['SO'].unique()"
   ]
  },
  {
   "cell_type": "code",
   "execution_count": 90,
   "metadata": {
    "collapsed": false
   },
   "outputs": [],
   "source": [
    "def discipline(text):\n",
    "    if text == 'REVIEW OF ECONOMIC STUDIES' or text == 'ECONOMETRICA' or text == 'JOURNAL OF ECONOMIC LITERATURE' or text == 'QUARTERLY JOURNAL OF ECONOMICS' or text =='JOURNAL OF ECONOMIC PERSPECTIVES':\n",
    "        return 'Economics'\n",
    "    if text == 'AMERICAN JOURNAL OF POLITICAL SCIENCE' or text == 'JOURNAL OF POLITICS' or text == 'POLITICAL ANALYSIS' or text == 'AMERICAN POLITICAL SCIENCE REVIEW' or text == 'ANNUAL REVIEW OF POLITICAL SCIENCE':\n",
    "        return 'Political Science'\n",
    "    else:\n",
    "        return 'Sociology'\n",
    "    \n",
    "articles['discipline'] = articles['SO'].apply(discipline)"
   ]
  },
  {
   "cell_type": "code",
   "execution_count": 91,
   "metadata": {
    "collapsed": false
   },
   "outputs": [
    {
     "data": {
      "text/plain": [
       "Political Science    4758\n",
       "Sociology            4534\n",
       "Economics            3590\n",
       "Name: discipline, dtype: int64"
      ]
     },
     "execution_count": 91,
     "metadata": {},
     "output_type": "execute_result"
    }
   ],
   "source": [
    "articles['discipline'].value_counts()"
   ]
  },
  {
   "cell_type": "code",
   "execution_count": 94,
   "metadata": {
    "collapsed": false
   },
   "outputs": [
    {
     "data": {
      "text/html": [
       "<div>\n",
       "<table border=\"1\" class=\"dataframe\">\n",
       "  <thead>\n",
       "    <tr style=\"text-align: right;\">\n",
       "      <th></th>\n",
       "      <th>AU</th>\n",
       "      <th>TI</th>\n",
       "      <th>SO</th>\n",
       "      <th>PD</th>\n",
       "      <th>PY</th>\n",
       "      <th>AB</th>\n",
       "      <th>TC</th>\n",
       "      <th>discipline</th>\n",
       "    </tr>\n",
       "    <tr>\n",
       "      <th>UT</th>\n",
       "      <th></th>\n",
       "      <th></th>\n",
       "      <th></th>\n",
       "      <th></th>\n",
       "      <th></th>\n",
       "      <th></th>\n",
       "      <th></th>\n",
       "      <th></th>\n",
       "    </tr>\n",
       "  </thead>\n",
       "  <tbody>\n",
       "    <tr>\n",
       "      <th>WOS:000360400500009</th>\n",
       "      <td>Holmes, Thomas J.; McGrattan, Ellen R.; Presco...</td>\n",
       "      <td>Quid Pro Quo: Technology Capital Transfers for...</td>\n",
       "      <td>REVIEW OF ECONOMIC STUDIES</td>\n",
       "      <td>JUL 2015</td>\n",
       "      <td>2015</td>\n",
       "      <td>By the 1970s, quid pro quo policy, which requi...</td>\n",
       "      <td>0</td>\n",
       "      <td>Economics</td>\n",
       "    </tr>\n",
       "    <tr>\n",
       "      <th>WOS:000360400500010</th>\n",
       "      <td>Kalantzis, Yannick</td>\n",
       "      <td>Financial Fragility in Small Open Economies: F...</td>\n",
       "      <td>REVIEW OF ECONOMIC STUDIES</td>\n",
       "      <td>JUL 2015</td>\n",
       "      <td>2015</td>\n",
       "      <td>Episodes of large capital inflows in small ope...</td>\n",
       "      <td>0</td>\n",
       "      <td>Economics</td>\n",
       "    </tr>\n",
       "    <tr>\n",
       "      <th>WOS:000360400500011</th>\n",
       "      <td>Yamashita, Takuro</td>\n",
       "      <td>Implementation in Weakly Undominated Strategie...</td>\n",
       "      <td>REVIEW OF ECONOMIC STUDIES</td>\n",
       "      <td>JUL 2015</td>\n",
       "      <td>2015</td>\n",
       "      <td>We study the mechanism design problem of guara...</td>\n",
       "      <td>0</td>\n",
       "      <td>Economics</td>\n",
       "    </tr>\n",
       "    <tr>\n",
       "      <th>WOS:000359919200001</th>\n",
       "      <td>Brown-Saracino, Japonica</td>\n",
       "      <td>How Places Shape Identity: The Origins of Dist...</td>\n",
       "      <td>AMERICAN JOURNAL OF SOCIOLOGY</td>\n",
       "      <td>JUL 2015</td>\n",
       "      <td>2015</td>\n",
       "      <td>Tools from the study of neighborhood effects, ...</td>\n",
       "      <td>0</td>\n",
       "      <td>Sociology</td>\n",
       "    </tr>\n",
       "    <tr>\n",
       "      <th>WOS:000359919200002</th>\n",
       "      <td>Ermakoff, Ivan</td>\n",
       "      <td>The Structure of Contingency</td>\n",
       "      <td>AMERICAN JOURNAL OF SOCIOLOGY</td>\n",
       "      <td>JUL 2015</td>\n",
       "      <td>2015</td>\n",
       "      <td>Can we identify and theorize contingency as a ...</td>\n",
       "      <td>0</td>\n",
       "      <td>Sociology</td>\n",
       "    </tr>\n",
       "  </tbody>\n",
       "</table>\n",
       "</div>"
      ],
      "text/plain": [
       "                                                                    AU                                                 TI                             SO        PD    PY                                                 AB  TC discipline\n",
       "UT                                                                                                                                                                                                                                        \n",
       "WOS:000360400500009  Holmes, Thomas J.; McGrattan, Ellen R.; Presco...  Quid Pro Quo: Technology Capital Transfers for...     REVIEW OF ECONOMIC STUDIES  JUL 2015  2015  By the 1970s, quid pro quo policy, which requi...   0  Economics\n",
       "WOS:000360400500010                                 Kalantzis, Yannick  Financial Fragility in Small Open Economies: F...     REVIEW OF ECONOMIC STUDIES  JUL 2015  2015  Episodes of large capital inflows in small ope...   0  Economics\n",
       "WOS:000360400500011                                  Yamashita, Takuro  Implementation in Weakly Undominated Strategie...     REVIEW OF ECONOMIC STUDIES  JUL 2015  2015  We study the mechanism design problem of guara...   0  Economics\n",
       "WOS:000359919200001                           Brown-Saracino, Japonica  How Places Shape Identity: The Origins of Dist...  AMERICAN JOURNAL OF SOCIOLOGY  JUL 2015  2015  Tools from the study of neighborhood effects, ...   0  Sociology\n",
       "WOS:000359919200002                                     Ermakoff, Ivan                       The Structure of Contingency  AMERICAN JOURNAL OF SOCIOLOGY  JUL 2015  2015  Can we identify and theorize contingency as a ...   0  Sociology"
      ]
     },
     "execution_count": 94,
     "metadata": {},
     "output_type": "execute_result"
    }
   ],
   "source": [
    "articles.head()"
   ]
  },
  {
   "cell_type": "code",
   "execution_count": 78,
   "metadata": {
    "collapsed": false
   },
   "outputs": [
    {
     "data": {
      "text/plain": [
       "<matplotlib.axes._subplots.AxesSubplot at 0xb4f5f60>"
      ]
     },
     "execution_count": 78,
     "metadata": {},
     "output_type": "execute_result"
    },
    {
     "data": {
      "image/png": "[encoded data removed]",
      "text/plain": [
       "<matplotlib.figure.Figure at 0xb4eb320>"
      ]
     },
     "metadata": {},
     "output_type": "display_data"
    }
   ],
   "source": [
    "articles['PY'].hist()"
   ]
  },
  {
   "cell_type": "code",
   "execution_count": 93,
   "metadata": {
    "collapsed": false
   },
   "outputs": [],
   "source": [
    "#articles.to_csv(articles_1990_present_w_abstracts.csv')"
   ]
  }
 ],
 "metadata": {
  "kernelspec": {
   "display_name": "Python 2",
   "language": "python",
   "name": "python2"
  },
  "language_info": {
   "codemirror_mode": {
    "name": "ipython",
    "version": 2
   },
   "file_extension": ".py",
   "mimetype": "text/x-python",
   "name": "python",
   "nbconvert_exporter": "python",
   "pygments_lexer": "ipython2",
   "version": "2.7.11"
  }
 },
 "nbformat": 4,
 "nbformat_minor": 0
}
