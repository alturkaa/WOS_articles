{
 "cells": [
  {
   "cell_type": "code",
   "execution_count": 1,
   "metadata": {
    "collapsed": true
   },
   "outputs": [],
   "source": [
    "import os"
   ]
  },
  {
   "cell_type": "code",
   "execution_count": 2,
   "metadata": {
    "collapsed": false
   },
   "outputs": [],
   "source": [
    "os.chdir('C:\\Users\\Akram Al-Turk\\Box Sync\\Research\\Topic Modeling\\\\dynamic-nmf-master\\dynamic-nmf-master')"
   ]
  },
  {
   "cell_type": "markdown",
   "metadata": {},
   "source": [
    "### Dynamic Topic Modeling"
   ]
  },
  {
   "cell_type": "markdown",
   "metadata": {},
   "source": [
    "I'm using the code from this GitHub page: https://github.com/derekgreene/dynamic-nmf, used for this paper: http://arxiv.org/abs/1505.07302."
   ]
  },
  {
   "cell_type": "markdown",
   "metadata": {},
   "source": [
    "Steps:\n",
    "    \n",
    "    1. Download ZIP folder from GitHub page above.\n",
    "    2. If need be, download other packages needed. In my case, I needed prettytable. \n",
    "        a. pip install prettytable\n",
    "    3. Unzip folder, and unzip data folder if you want to run the test below.\n",
    "    4. Run the Python files below with %run"
   ]
  },
  {
   "cell_type": "code",
   "execution_count": 15,
   "metadata": {
    "collapsed": false
   },
   "outputs": [],
   "source": [
    "# Preprocess the text\n",
    "# step 1 in GitHub page\n",
    "\n",
    "%run prep-text.py data/sample/sample/month1 data/sample/sample/month2 data/sample/sample/month3 -o data --tfidf --norm"
   ]
  },
  {
   "cell_type": "code",
   "execution_count": 10,
   "metadata": {
    "collapsed": false
   },
   "outputs": [],
   "source": [
    "# Window topic models\n",
    "# step 2\n",
    "\n",
    "%run find-window-topics.py data/month1.pkl data/month2.pkl data/month3.pkl -k 5 -o data"
   ]
  },
  {
   "cell_type": "code",
   "execution_count": 23,
   "metadata": {
    "collapsed": false
   },
   "outputs": [
    {
     "name": "stdout",
     "output_type": "stream",
     "text": [
      "+------+------------+-----------+-----------+-----------+-------------+\n",
      "| Rank | month1_01  | month1_02 | month1_03 | month1_04 | month1_05   |\n",
      "+------+------------+-----------+-----------+-----------+-------------+\n",
      "|    1 | government | film      | chelsea   | economy   | microsoft   |\n",
      "|    2 | blair      | best      | cup       | growth    | mobile      |\n",
      "|    3 | labour     | awards    | league    | oil       | users       |\n",
      "|    4 | minister   | award     | united    | sales     | software    |\n",
      "|    5 | party      | actor     | game      | bank      | people      |\n",
      "|    6 | election   | director  | club      | prices    | security    |\n",
      "|    7 | howard     | oscar     | liverpool | company   | net         |\n",
      "|    8 | secretary  | films     | play      | china     | information |\n",
      "|    9 | brown      | actress   | side      | economic  | programs    |\n",
      "|   10 | people     | star      | against   | market    | computer    |\n",
      "+------+------------+-----------+-----------+-----------+-------------+\n",
      "+------+-----------+------------+-----------+------------+-----------+\n",
      "| Rank | month2_01 | month2_02  | month2_03 | month2_04  | month2_05 |\n",
      "+------+-----------+------------+-----------+------------+-----------+\n",
      "|    1 | game      | blair      | album     | people     | growth    |\n",
      "|    2 | club      | government | band      | technology | prices    |\n",
      "|    3 | chelsea   | police     | music     | computer   | bank      |\n",
      "|    4 | arsenal   | labour     | number    | phone      | sales     |\n",
      "|    5 | manager   | minister   | chart     | games      | oil       |\n",
      "|    6 | players   | court      | best      | users      | profits   |\n",
      "|    7 | win       | law        | awards    | software   | euros     |\n",
      "|    8 | liverpool | told       | show      | sites      | market    |\n",
      "|    9 | team      | people     | song      | site       | economy   |\n",
      "|   10 | united    | election   | top       | online     | shares    |\n",
      "+------+-----------+------------+-----------+------------+-----------+\n",
      "+------+------------+------------+-----------+------------+------------+\n",
      "| Rank | month3_01  | month3_02  | month3_03 | month3_04  | month3_05  |\n",
      "+------+------------+------------+-----------+------------+------------+\n",
      "|    1 | blair      | mobile     | music     | chelsea    | market     |\n",
      "|    2 | labour     | people     | band      | united     | government |\n",
      "|    3 | brown      | phone      | best      | league     | stock      |\n",
      "|    4 | election   | net        | show      | club       | economic   |\n",
      "|    5 | party      | users      | album     | arsenal    | law        |\n",
      "|    6 | prime      | broadband  | rock      | game       | china      |\n",
      "|    7 | minister   | technology | singer    | players    | economy    |\n",
      "|    8 | chancellor | service    | number    | football   | eu         |\n",
      "|    9 | government | software   | song      | goal       | firms      |\n",
      "|   10 | howard     | phones     | awards    | manchester | shares     |\n",
      "+------+------------+------------+-----------+------------+------------+\n"
     ]
    }
   ],
   "source": [
    "# Display topics\n",
    "\n",
    "%run display-topics.py data/month1_windowtopics_k05.pkl data/month2_windowtopics_k05.pkl data/month3_windowtopics_k05.pkl"
   ]
  },
  {
   "cell_type": "code",
   "execution_count": 15,
   "metadata": {
    "collapsed": false
   },
   "outputs": [],
   "source": [
    "# export to .csv\n",
    "\n",
    "%run export-csv.py data/month1_windowtopics_k05.pkl -t 50"
   ]
  },
  {
   "cell_type": "code",
   "execution_count": 17,
   "metadata": {
    "collapsed": false
   },
   "outputs": [],
   "source": [
    "# Dynamic topic models\n",
    "# step 3\n",
    "\n",
    "%run find-dynamic-topics.py data/month1_windowtopics_k05.pkl data/month2_windowtopics_k05.pkl data/month3_windowtopics_k05.pkl -k 5 -o data"
   ]
  },
  {
   "cell_type": "code",
   "execution_count": 19,
   "metadata": {
    "collapsed": false
   },
   "outputs": [
    {
     "name": "stdout",
     "output_type": "stream",
     "text": [
      "+------+------------+-----------+------------+--------+----------+\n",
      "| Rank | D01        | D02       | D03        | D04    | D05      |\n",
      "+------+------------+-----------+------------+--------+----------+\n",
      "|    1 | mobile     | chelsea   | blair      | best   | growth   |\n",
      "|    2 | people     | club      | labour     | band   | economy  |\n",
      "|    3 | users      | game      | government | music  | prices   |\n",
      "|    4 | phone      | united    | election   | film   | sales    |\n",
      "|    5 | software   | arsenal   | minister   | album  | oil      |\n",
      "|    6 | technology | league    | brown      | awards | bank     |\n",
      "|    7 | microsoft  | players   | party      | show   | market   |\n",
      "|    8 | net        | cup       | prime      | number | company  |\n",
      "|    9 | computer   | liverpool | howard     | award  | profits  |\n",
      "|   10 | service    | football  | told       | top    | economic |\n",
      "+------+------------+-----------+------------+--------+----------+\n"
     ]
    }
   ],
   "source": [
    "# Display dynamic topic models\n",
    "\n",
    "%run display-topics.py data/dynamictopics_k05.pkl"
   ]
  },
  {
   "cell_type": "code",
   "execution_count": 20,
   "metadata": {
    "collapsed": true
   },
   "outputs": [],
   "source": [
    "%run prep-word2vec.py data/sample/sample/month1 data/sample/sample/month2 data/sample/sample/month3 -o data"
   ]
  },
  {
   "cell_type": "code",
   "execution_count": 22,
   "metadata": {
    "collapsed": false
   },
   "outputs": [],
   "source": [
    "%run find-window-topics.py data/month1.pkl data/month2.pkl data/month3.pkl -k 4,10 -o data -m data/w2v-model.bin "
   ]
  },
  {
   "cell_type": "code",
   "execution_count": 5,
   "metadata": {
    "collapsed": false
   },
   "outputs": [],
   "source": [
    "os.chdir('C:\\Users\\Akram Al-Turk\\Box Sync\\Research\\Topic Modeling\\dynamic-nmf-master\\dynamic-nmf-master')"
   ]
  },
  {
   "cell_type": "code",
   "execution_count": 8,
   "metadata": {
    "collapsed": false
   },
   "outputs": [],
   "source": [
    "%run prep-text_pandas.py data/sample/sample/month1 data/sample/sample/month2 data/sample/sample/month3 -o data/pandas_test --tfidf --norm"
   ]
  },
  {
   "cell_type": "code",
   "execution_count": 9,
   "metadata": {
    "collapsed": false
   },
   "outputs": [],
   "source": [
    "%run find-window-topics.py wos_1990_2000.pkl wos_2001_2008.pkl wos_2009_2016.pkl -k 5 -o data/pandas_test"
   ]
  },
  {
   "cell_type": "code",
   "execution_count": 14,
   "metadata": {
    "collapsed": false
   },
   "outputs": [
    {
     "name": "stdout",
     "output_type": "stream",
     "text": [
      "+------+------------------+------------------+------------------+------------------+------------------+\n",
      "| Rank | wos_1990_2000_01 | wos_1990_2000_02 | wos_1990_2000_03 | wos_1990_2000_04 | wos_1990_2000_05 |\n",
      "+------+------------------+------------------+------------------+------------------+------------------+\n",
      "|    1 | political        | party            | black            | model            | women            |\n",
      "|    2 | social           | voting           | racial           | equilibrium      | men              |\n",
      "|    3 | theory           | parties          | white            | paper            | gender           |\n",
      "|    4 | state            | candidates       | children         | information      | labor            |\n",
      "|    5 | research         | elections        | blacks           | models           | employment       |\n",
      "|    6 | movement         | voters           | whites           | market           | workers          |\n",
      "|    7 | action           | electoral        | income           | growth           | wage             |\n",
      "|    8 | public           | policy           | race             | equilibria       | job              |\n",
      "|    9 | analysis         | election         | inequality       | price            | work             |\n",
      "|   10 | democratic       | vote             | ethnic           | optimal          | differences      |\n",
      "+------+------------------+------------------+------------------+------------------+------------------+\n",
      "+------+------------------+------------------+------------------+------------------+------------------+\n",
      "| Rank | wos_2001_2008_01 | wos_2001_2008_02 | wos_2001_2008_03 | wos_2001_2008_04 | wos_2001_2008_05 |\n",
      "+------+------------------+------------------+------------------+------------------+------------------+\n",
      "|    1 | political        | model            | racial           | party            | women            |\n",
      "|    2 | social           | models           | black            | electoral        | gender           |\n",
      "|    3 | theory           | equilibrium      | white            | parties          | men              |\n",
      "|    4 | state            | information      | school           | voters           | labor            |\n",
      "|    5 | economic         | paper            | race             | elections        | female           |\n",
      "|    6 | research         | market           | social           | voting           | employment       |\n",
      "|    7 | public           | firms            | whites           | candidates       | family           |\n",
      "|    8 | policy           | price            | ethnic           | policy           | differences      |\n",
      "|    9 | politics         | show             | blacks           | election         | sex              |\n",
      "|   10 | movement         | trade            | neighborhood     | presidential     | marriage         |\n",
      "+------+------------------+------------------+------------------+------------------+------------------+\n",
      "+------+------------------+------------------+------------------+------------------+------------------+\n",
      "| Rank | wos_2009_2016_01 | wos_2009_2016_02 | wos_2009_2016_03 | wos_2009_2016_04 | wos_2009_2016_05 |\n",
      "+------+------------------+------------------+------------------+------------------+------------------+\n",
      "|    1 | political        | income           | models           | information      | social           |\n",
      "|    2 | party            | inequality       | model            | equilibrium      | women            |\n",
      "|    3 | policy           | labor            | data             | agents           | racial           |\n",
      "|    4 | parties          | countries        | estimator        | private          | gender           |\n",
      "|    5 | voters           | workers          | methods          | equilibria       | research         |\n",
      "|    6 | electoral        | economic         | variables        | price            | men              |\n",
      "|    7 | elections        | trade            | method           | model            | status           |\n",
      "|    8 | election         | market           | estimation       | games            | black            |\n",
      "|    9 | voting           | firms            | identification   | agent            | health           |\n",
      "|   10 | public           | wage             | effects          | players          | white            |\n",
      "+------+------------------+------------------+------------------+------------------+------------------+\n"
     ]
    }
   ],
   "source": [
    "%run display-topics.py data/pandas_test/wos_1990_2000_windowtopics_k05.pkl data/pandas_test/wos_2001_2008_windowtopics_k05.pkl data/pandas_test/wos_2009_2016_windowtopics_k05.pkl"
   ]
  },
  {
   "cell_type": "code",
   "execution_count": 16,
   "metadata": {
    "collapsed": true
   },
   "outputs": [],
   "source": [
    "%run find-dynamic-topics.py data/pandas_test/wos_1990_2000_windowtopics_k05.pkl data/pandas_test/wos_2001_2008_windowtopics_k05.pkl -k 5 -o data"
   ]
  },
  {
   "cell_type": "code",
   "execution_count": 17,
   "metadata": {
    "collapsed": false
   },
   "outputs": [
    {
     "name": "stdout",
     "output_type": "stream",
     "text": [
      "+------+------------+-------------+-------------+------------+-----------+\n",
      "| Rank | D01        | D02         | D03         | D04        | D05       |\n",
      "+------+------------+-------------+-------------+------------+-----------+\n",
      "|    1 | racial     | women       | model       | party      | political |\n",
      "|    2 | black      | gender      | equilibrium | electoral  | social    |\n",
      "|    3 | white      | men         | models      | parties    | theory    |\n",
      "|    4 | race       | labor       | paper       | voters     | state     |\n",
      "|    5 | whites     | employment  | information | voting     | research  |\n",
      "|    6 | school     | female      | market      | elections  | movement  |\n",
      "|    7 | blacks     | differences | price       | candidates | public    |\n",
      "|    8 | children   | work        | firms       | policy     | policy    |\n",
      "|    9 | ethnic     | wage        | show        | election   | economic  |\n",
      "|   10 | inequality | job         | optimal     | vote       | politics  |\n",
      "+------+------------+-------------+-------------+------------+-----------+\n"
     ]
    }
   ],
   "source": [
    "%run display-topics.py data/dynamictopics_k05.pkl"
   ]
  },
  {
   "cell_type": "code",
   "execution_count": null,
   "metadata": {
    "collapsed": true
   },
   "outputs": [],
   "source": []
  }
 ],
 "metadata": {
  "kernelspec": {
   "display_name": "Python 2",
   "language": "python",
   "name": "python2"
  },
  "language_info": {
   "codemirror_mode": {
    "name": "ipython",
    "version": 2
   },
   "file_extension": ".py",
   "mimetype": "text/x-python",
   "name": "python",
   "nbconvert_exporter": "python",
   "pygments_lexer": "ipython2",
   "version": "2.7.11"
  }
 },
 "nbformat": 4,
 "nbformat_minor": 0
}
